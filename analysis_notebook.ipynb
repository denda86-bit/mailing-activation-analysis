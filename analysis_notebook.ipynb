{
 "cells": [
  {
   "cell_type": "code",
   "execution_count": 17,
   "id": "15dc9b44",
   "metadata": {
    "ExecuteTime": {
     "end_time": "2024-06-02T11:01:18.504823Z",
     "start_time": "2024-06-02T11:01:18.498071Z"
    }
   },
   "outputs": [],
   "source": [
    "import numpy as np\n",
    "import pandas as pd\n",
    "import seaborn as sns\n",
    "import matplotlib.pyplot as plt\n",
    "\n",
    "import statsmodels.api as sm\n",
    "from statsmodels.stats.outliers_influence import variance_inflation_factor\n",
    "from sklearn.ensemble import RandomForestClassifier"
   ]
  },
  {
   "cell_type": "markdown",
   "id": "67c983f1",
   "metadata": {},
   "source": [
    "## **Data**"
   ]
  },
  {
   "cell_type": "code",
   "execution_count": 3,
   "id": "7f031558",
   "metadata": {
    "ExecuteTime": {
     "end_time": "2024-06-02T10:59:37.753245Z",
     "start_time": "2024-06-02T10:59:37.731122Z"
    }
   },
   "outputs": [],
   "source": [
    "df = pd.read_csv('sample_data.csv', delimiter=';')"
   ]
  },
  {
   "cell_type": "markdown",
   "id": "2886a112",
   "metadata": {},
   "source": [
    "1. Data for the analysis are stored in the csv file sample_data.csv\n",
    "2. Assume that the mailing was delivered on October 1st, 2021 (time point is called t0 in the following)\n",
    "3. The following variables are provided: \n",
    "    \n",
    "- **ID**: Customer identifier \n",
    "- **Activated**: Every customer in the data set received a print mailing at t0 (i.e. on October 1st, 2021). If the customer made a purchase within the period of time p after t0, then the variable “Activated” assumes a value of 1, otherwise it assumes a value of 0. Note that receiving a print mailing is not the same as being a recipient of the newsletter (at t0), which is encoded by the variable Cust_NL (1 means that the customer was a newsletter recipient at t0, 0 means that the customer was not).\n",
    "- **Cust_Age**: Customer age at t0\n",
    "- **Cust_Gender**: Customer gender at t0\n",
    "- **Cust_NL**: Did the customer receive our newsletter at t0? \n",
    "- **Orders**: Number of orders within 12 months before t0 \n",
    "- **Orders_Voucher**: Number of orders in which a voucher was redeemed within 12 months before t0\n",
    "- **LastOrder**: Date of the last order within 12 months before t0 "
   ]
  },
  {
   "cell_type": "code",
   "execution_count": 4,
   "id": "d63b6d7e",
   "metadata": {
    "ExecuteTime": {
     "end_time": "2024-06-02T10:59:37.764971Z",
     "start_time": "2024-06-02T10:59:37.754579Z"
    },
    "scrolled": false
   },
   "outputs": [
    {
     "data": {
      "text/html": [
       "<div>\n",
       "<style scoped>\n",
       "    .dataframe tbody tr th:only-of-type {\n",
       "        vertical-align: middle;\n",
       "    }\n",
       "\n",
       "    .dataframe tbody tr th {\n",
       "        vertical-align: top;\n",
       "    }\n",
       "\n",
       "    .dataframe thead th {\n",
       "        text-align: right;\n",
       "    }\n",
       "</style>\n",
       "<table border=\"1\" class=\"dataframe\">\n",
       "  <thead>\n",
       "    <tr style=\"text-align: right;\">\n",
       "      <th></th>\n",
       "      <th>ID</th>\n",
       "      <th>Activated</th>\n",
       "      <th>Cust_Age</th>\n",
       "      <th>Cust_Gender</th>\n",
       "      <th>Cust_NL</th>\n",
       "      <th>Orders</th>\n",
       "      <th>LastOrder</th>\n",
       "      <th>Orders_Voucher</th>\n",
       "    </tr>\n",
       "  </thead>\n",
       "  <tbody>\n",
       "    <tr>\n",
       "      <th>0</th>\n",
       "      <td>1</td>\n",
       "      <td>1</td>\n",
       "      <td>53</td>\n",
       "      <td>m</td>\n",
       "      <td>0</td>\n",
       "      <td>3</td>\n",
       "      <td>2021-07-24</td>\n",
       "      <td>0</td>\n",
       "    </tr>\n",
       "    <tr>\n",
       "      <th>1</th>\n",
       "      <td>2</td>\n",
       "      <td>0</td>\n",
       "      <td>46</td>\n",
       "      <td>f</td>\n",
       "      <td>0</td>\n",
       "      <td>2</td>\n",
       "      <td>2021-04-11</td>\n",
       "      <td>1</td>\n",
       "    </tr>\n",
       "    <tr>\n",
       "      <th>2</th>\n",
       "      <td>3</td>\n",
       "      <td>0</td>\n",
       "      <td>28</td>\n",
       "      <td>f</td>\n",
       "      <td>0</td>\n",
       "      <td>1</td>\n",
       "      <td>2021-01-14</td>\n",
       "      <td>0</td>\n",
       "    </tr>\n",
       "    <tr>\n",
       "      <th>3</th>\n",
       "      <td>4</td>\n",
       "      <td>1</td>\n",
       "      <td>53</td>\n",
       "      <td>f</td>\n",
       "      <td>0</td>\n",
       "      <td>3</td>\n",
       "      <td>2021-07-20</td>\n",
       "      <td>0</td>\n",
       "    </tr>\n",
       "    <tr>\n",
       "      <th>4</th>\n",
       "      <td>5</td>\n",
       "      <td>1</td>\n",
       "      <td>61</td>\n",
       "      <td>m</td>\n",
       "      <td>0</td>\n",
       "      <td>1</td>\n",
       "      <td>2021-05-25</td>\n",
       "      <td>0</td>\n",
       "    </tr>\n",
       "  </tbody>\n",
       "</table>\n",
       "</div>"
      ],
      "text/plain": [
       "   ID  Activated  Cust_Age Cust_Gender  Cust_NL  Orders   LastOrder   \n",
       "0   1          1        53           m        0       3  2021-07-24  \\\n",
       "1   2          0        46           f        0       2  2021-04-11   \n",
       "2   3          0        28           f        0       1  2021-01-14   \n",
       "3   4          1        53           f        0       3  2021-07-20   \n",
       "4   5          1        61           m        0       1  2021-05-25   \n",
       "\n",
       "   Orders_Voucher  \n",
       "0               0  \n",
       "1               1  \n",
       "2               0  \n",
       "3               0  \n",
       "4               0  "
      ]
     },
     "execution_count": 4,
     "metadata": {},
     "output_type": "execute_result"
    }
   ],
   "source": [
    "df.head()"
   ]
  },
  {
   "cell_type": "code",
   "execution_count": 5,
   "id": "68bae167",
   "metadata": {
    "ExecuteTime": {
     "end_time": "2024-06-02T10:59:37.773058Z",
     "start_time": "2024-06-02T10:59:37.766569Z"
    },
    "scrolled": true
   },
   "outputs": [
    {
     "name": "stdout",
     "output_type": "stream",
     "text": [
      "<class 'pandas.core.frame.DataFrame'>\n",
      "RangeIndex: 10000 entries, 0 to 9999\n",
      "Data columns (total 8 columns):\n",
      " #   Column          Non-Null Count  Dtype \n",
      "---  ------          --------------  ----- \n",
      " 0   ID              10000 non-null  int64 \n",
      " 1   Activated       10000 non-null  int64 \n",
      " 2   Cust_Age        10000 non-null  int64 \n",
      " 3   Cust_Gender     10000 non-null  object\n",
      " 4   Cust_NL         10000 non-null  int64 \n",
      " 5   Orders          10000 non-null  int64 \n",
      " 6   LastOrder       9019 non-null   object\n",
      " 7   Orders_Voucher  10000 non-null  int64 \n",
      "dtypes: int64(6), object(2)\n",
      "memory usage: 625.1+ KB\n"
     ]
    }
   ],
   "source": [
    "df.info()"
   ]
  },
  {
   "cell_type": "code",
   "execution_count": 6,
   "id": "1c622f2f",
   "metadata": {
    "ExecuteTime": {
     "end_time": "2024-06-02T10:59:37.780479Z",
     "start_time": "2024-06-02T10:59:37.774354Z"
    }
   },
   "outputs": [],
   "source": [
    "# change the LastOrder column from object to a datetime type\n",
    "df['LastOrder'] = pd.to_datetime(df['LastOrder'])"
   ]
  },
  {
   "cell_type": "code",
   "execution_count": 7,
   "id": "1d1578b8",
   "metadata": {
    "ExecuteTime": {
     "end_time": "2024-06-02T10:59:37.786219Z",
     "start_time": "2024-06-02T10:59:37.781722Z"
    },
    "scrolled": true
   },
   "outputs": [],
   "source": [
    "# change the Cust_Gender column to binary encoding\n",
    "df['is_female'] = np.where(df.Cust_Gender=='f', 1, 0)"
   ]
  },
  {
   "cell_type": "code",
   "execution_count": 8,
   "id": "f37e478b",
   "metadata": {
    "ExecuteTime": {
     "end_time": "2024-06-02T10:59:37.795512Z",
     "start_time": "2024-06-02T10:59:37.787428Z"
    },
    "scrolled": false
   },
   "outputs": [
    {
     "data": {
      "text/html": [
       "<div>\n",
       "<style scoped>\n",
       "    .dataframe tbody tr th:only-of-type {\n",
       "        vertical-align: middle;\n",
       "    }\n",
       "\n",
       "    .dataframe tbody tr th {\n",
       "        vertical-align: top;\n",
       "    }\n",
       "\n",
       "    .dataframe thead th {\n",
       "        text-align: right;\n",
       "    }\n",
       "</style>\n",
       "<table border=\"1\" class=\"dataframe\">\n",
       "  <thead>\n",
       "    <tr style=\"text-align: right;\">\n",
       "      <th></th>\n",
       "      <th>ID</th>\n",
       "      <th>Activated</th>\n",
       "      <th>Cust_Age</th>\n",
       "      <th>Cust_Gender</th>\n",
       "      <th>Cust_NL</th>\n",
       "      <th>Orders</th>\n",
       "      <th>LastOrder</th>\n",
       "      <th>Orders_Voucher</th>\n",
       "      <th>is_female</th>\n",
       "    </tr>\n",
       "  </thead>\n",
       "  <tbody>\n",
       "    <tr>\n",
       "      <th>0</th>\n",
       "      <td>1</td>\n",
       "      <td>1</td>\n",
       "      <td>53</td>\n",
       "      <td>m</td>\n",
       "      <td>0</td>\n",
       "      <td>3</td>\n",
       "      <td>2021-07-24</td>\n",
       "      <td>0</td>\n",
       "      <td>0</td>\n",
       "    </tr>\n",
       "    <tr>\n",
       "      <th>1</th>\n",
       "      <td>2</td>\n",
       "      <td>0</td>\n",
       "      <td>46</td>\n",
       "      <td>f</td>\n",
       "      <td>0</td>\n",
       "      <td>2</td>\n",
       "      <td>2021-04-11</td>\n",
       "      <td>1</td>\n",
       "      <td>1</td>\n",
       "    </tr>\n",
       "    <tr>\n",
       "      <th>2</th>\n",
       "      <td>3</td>\n",
       "      <td>0</td>\n",
       "      <td>28</td>\n",
       "      <td>f</td>\n",
       "      <td>0</td>\n",
       "      <td>1</td>\n",
       "      <td>2021-01-14</td>\n",
       "      <td>0</td>\n",
       "      <td>1</td>\n",
       "    </tr>\n",
       "    <tr>\n",
       "      <th>3</th>\n",
       "      <td>4</td>\n",
       "      <td>1</td>\n",
       "      <td>53</td>\n",
       "      <td>f</td>\n",
       "      <td>0</td>\n",
       "      <td>3</td>\n",
       "      <td>2021-07-20</td>\n",
       "      <td>0</td>\n",
       "      <td>1</td>\n",
       "    </tr>\n",
       "    <tr>\n",
       "      <th>4</th>\n",
       "      <td>5</td>\n",
       "      <td>1</td>\n",
       "      <td>61</td>\n",
       "      <td>m</td>\n",
       "      <td>0</td>\n",
       "      <td>1</td>\n",
       "      <td>2021-05-25</td>\n",
       "      <td>0</td>\n",
       "      <td>0</td>\n",
       "    </tr>\n",
       "  </tbody>\n",
       "</table>\n",
       "</div>"
      ],
      "text/plain": [
       "   ID  Activated  Cust_Age Cust_Gender  Cust_NL  Orders  LastOrder   \n",
       "0   1          1        53           m        0       3 2021-07-24  \\\n",
       "1   2          0        46           f        0       2 2021-04-11   \n",
       "2   3          0        28           f        0       1 2021-01-14   \n",
       "3   4          1        53           f        0       3 2021-07-20   \n",
       "4   5          1        61           m        0       1 2021-05-25   \n",
       "\n",
       "   Orders_Voucher  is_female  \n",
       "0               0          0  \n",
       "1               1          1  \n",
       "2               0          1  \n",
       "3               0          1  \n",
       "4               0          0  "
      ]
     },
     "execution_count": 8,
     "metadata": {},
     "output_type": "execute_result"
    }
   ],
   "source": [
    "df.head()"
   ]
  },
  {
   "cell_type": "markdown",
   "id": "809a943b",
   "metadata": {},
   "source": [
    "## **1. Which measure(s) would you use to evaluate the performance of the mailing?**"
   ]
  },
  {
   "cell_type": "code",
   "execution_count": 9,
   "id": "b895fb53",
   "metadata": {
    "ExecuteTime": {
     "end_time": "2024-06-02T10:59:38.705617Z",
     "start_time": "2024-06-02T10:59:38.702790Z"
    }
   },
   "outputs": [
    {
     "name": "stdout",
     "output_type": "stream",
     "text": [
      "The Activation Rate for the group receving the print mailing is: 43.49%\n"
     ]
    }
   ],
   "source": [
    "# Activation rate \n",
    "print(f'The Activation Rate for the group receving the print mailing is: \\\n",
    "{(df.Activated.sum()/df.Activated.count())*100}%')"
   ]
  },
  {
   "cell_type": "markdown",
   "id": "ef4b2964",
   "metadata": {
    "heading_collapsed": true
   },
   "source": [
    "## **2. Can you determine factors which can explain if a customer gets activated by the mailing?**\n"
   ]
  },
  {
   "cell_type": "code",
   "execution_count": 10,
   "id": "7a4ac48e",
   "metadata": {
    "ExecuteTime": {
     "end_time": "2024-06-02T10:59:40.289486Z",
     "start_time": "2024-06-02T10:59:40.287118Z"
    },
    "hidden": true
   },
   "outputs": [],
   "source": [
    "features = ['Cust_Age', 'Cust_NL', 'Orders','Orders_Voucher', 'is_female']"
   ]
  },
  {
   "cell_type": "code",
   "execution_count": 11,
   "id": "56c96a0f",
   "metadata": {
    "ExecuteTime": {
     "end_time": "2024-06-02T10:59:40.764841Z",
     "start_time": "2024-06-02T10:59:40.760255Z"
    },
    "hidden": true
   },
   "outputs": [],
   "source": [
    "# Compute the correlation matrix\n",
    "correlation_matrix = df[features+['Activated']].corr()\n",
    "\n",
    "# Select the correlation values for column 'A'\n",
    "correlation_with_activated = correlation_matrix['Activated']\n",
    "\n",
    "# Sort the correlation values in ascending order\n",
    "correlation_with_activated = correlation_with_activated.sort_values(ascending=False)"
   ]
  },
  {
   "cell_type": "code",
   "execution_count": 12,
   "id": "6420bd73",
   "metadata": {
    "ExecuteTime": {
     "end_time": "2024-06-02T10:59:41.504159Z",
     "start_time": "2024-06-02T10:59:41.500264Z"
    },
    "hidden": true,
    "scrolled": true
   },
   "outputs": [
    {
     "data": {
      "text/plain": [
       "Activated         1.000000\n",
       "Orders            0.425343\n",
       "Orders_Voucher    0.252807\n",
       "Cust_Age          0.102746\n",
       "Cust_NL           0.055835\n",
       "is_female         0.025418\n",
       "Name: Activated, dtype: float64"
      ]
     },
     "execution_count": 12,
     "metadata": {},
     "output_type": "execute_result"
    }
   ],
   "source": [
    "correlation_with_activated"
   ]
  },
  {
   "cell_type": "code",
   "execution_count": 13,
   "id": "b7a05e0c",
   "metadata": {
    "ExecuteTime": {
     "end_time": "2024-06-02T10:59:46.340426Z",
     "start_time": "2024-06-02T10:59:46.135814Z"
    },
    "hidden": true,
    "scrolled": false
   },
   "outputs": [
    {
     "data": {
      "image/png": "[encoded data removed]",
      "text/plain": [
       "<Figure size 1000x800 with 2 Axes>"
      ]
     },
     "metadata": {},
     "output_type": "display_data"
    }
   ],
   "source": [
    "# Plot the heatmap\n",
    "plt.figure(figsize=(10, 8))\n",
    "sns.heatmap(correlation_matrix.drop('Activated'), annot=True, cmap='coolwarm', center=0)\n",
    "plt.title('Correlation Heatmap')\n",
    "plt.show()"
   ]
  },
  {
   "cell_type": "markdown",
   "id": "155d6b4b",
   "metadata": {
    "hidden": true
   },
   "source": [
    "Positive Correlation with Customer Activation:\n",
    "\n",
    "    1. #orders in the last 12 months before t0 (p=0.43, moderate)\n",
    "    \n",
    "    2. #vouchers applied on orders in the last 12 months until t0 (p=0.25, low)\n",
    "    \n",
    "    3. customer age at the time t0 (p=0.1, low)"
   ]
  },
  {
   "cell_type": "markdown",
   "id": "be8df784",
   "metadata": {
    "hidden": true
   },
   "source": [
    "Furtheremore the multicollinerity should be checked since it is evident that `orders_voucher` and `orders` are moderate correlated.  "
   ]
  },
  {
   "cell_type": "markdown",
   "id": "b99a88f3",
   "metadata": {
    "hidden": true
   },
   "source": [
    "### Logistic Regression to identify the predictors of the customer's activation"
   ]
  },
  {
   "cell_type": "code",
   "execution_count": 14,
   "id": "5ad45d59",
   "metadata": {
    "ExecuteTime": {
     "end_time": "2024-06-02T10:59:51.440677Z",
     "start_time": "2024-06-02T10:59:51.437529Z"
    },
    "hidden": true
   },
   "outputs": [],
   "source": [
    "# Selecting features and target\n",
    "X = df[features]\n",
    "y = df['Activated']"
   ]
  },
  {
   "cell_type": "code",
   "execution_count": 18,
   "id": "c6c545d0",
   "metadata": {
    "ExecuteTime": {
     "end_time": "2024-06-02T11:01:24.269813Z",
     "start_time": "2024-06-02T11:01:24.255020Z"
    },
    "hidden": true,
    "scrolled": true
   },
   "outputs": [
    {
     "name": "stdout",
     "output_type": "stream",
     "text": [
      "         Variable       VIF\n",
      "0        Cust_Age  3.719412\n",
      "1         Cust_NL  1.245319\n",
      "2          Orders  2.984388\n",
      "3  Orders_Voucher  1.746382\n",
      "4       is_female  2.753152\n"
     ]
    }
   ],
   "source": [
    "# Calculate VIF for each predictor variable\n",
    "vif = pd.DataFrame()\n",
    "vif[\"Variable\"] = X.columns\n",
    "vif[\"VIF\"] = [variance_inflation_factor(X.values, i) for i in range(X.shape[1])]\n",
    "print(vif)"
   ]
  },
  {
   "cell_type": "markdown",
   "id": "2f96710c",
   "metadata": {
    "hidden": true
   },
   "source": [
    "As rule of thumb the VIF should not be higher than 5. \n",
    "\n",
    "In this case we can exclude that there is  multicollinearity across predictors since for all of them the VIP is <5. "
   ]
  },
  {
   "cell_type": "code",
   "execution_count": 19,
   "id": "a8232820",
   "metadata": {
    "ExecuteTime": {
     "end_time": "2024-06-02T11:01:26.564787Z",
     "start_time": "2024-06-02T11:01:26.539755Z"
    },
    "hidden": true,
    "scrolled": false
   },
   "outputs": [
    {
     "name": "stdout",
     "output_type": "stream",
     "text": [
      "Optimization terminated successfully.\n",
      "         Current function value: 0.574943\n",
      "         Iterations 6\n",
      "                           Logit Regression Results                           \n",
      "==============================================================================\n",
      "Dep. Variable:              Activated   No. Observations:                10000\n",
      "Model:                          Logit   Df Residuals:                     9994\n",
      "Method:                           MLE   Df Model:                            5\n",
      "Date:                Sun, 02 Jun 2024   Pseudo R-squ.:                  0.1602\n",
      "Time:                        13:01:26   Log-Likelihood:                -5749.4\n",
      "converged:                       True   LL-Null:                       -6846.5\n",
      "Covariance Type:            nonrobust   LLR p-value:                     0.000\n",
      "==================================================================================\n",
      "                     coef    std err          z      P>|z|      [0.025      0.975]\n",
      "----------------------------------------------------------------------------------\n",
      "const             -1.9412      0.098    -19.734      0.000      -2.134      -1.748\n",
      "Cust_Age           0.0065      0.002      3.655      0.000       0.003       0.010\n",
      "Cust_NL            0.0348      0.061      0.575      0.565      -0.084       0.154\n",
      "Orders             0.3965      0.012     32.088      0.000       0.372       0.421\n",
      "Orders_Voucher     0.1193      0.024      4.939      0.000       0.072       0.167\n",
      "is_female          0.1083      0.051      2.124      0.034       0.008       0.208\n",
      "==================================================================================\n"
     ]
    }
   ],
   "source": [
    "# Adding constant for the intercept\n",
    "X = sm.add_constant(X)\n",
    "\n",
    "# Logistic regression model\n",
    "logit_model = sm.Logit(y, X)\n",
    "result = logit_model.fit()\n",
    "\n",
    "# Summary of the model\n",
    "print(result.summary())"
   ]
  },
  {
   "cell_type": "code",
   "execution_count": 20,
   "id": "0169397f",
   "metadata": {
    "ExecuteTime": {
     "end_time": "2024-06-02T11:01:28.291440Z",
     "start_time": "2024-06-02T11:01:28.287912Z"
    },
    "hidden": true,
    "scrolled": true
   },
   "outputs": [
    {
     "name": "stdout",
     "output_type": "stream",
     "text": [
      "const             0.143530\n",
      "Cust_Age          1.006515\n",
      "Cust_NL           1.035447\n",
      "Orders            1.486541\n",
      "Orders_Voucher    1.126690\n",
      "is_female         1.114430\n",
      "dtype: float64\n"
     ]
    }
   ],
   "source": [
    "#coefficients odds ratios\n",
    "coefficients = result.params\n",
    "odds_ratios = np.exp(coefficients)\n",
    "print(odds_ratios)"
   ]
  },
  {
   "cell_type": "markdown",
   "id": "7f66da49",
   "metadata": {},
   "source": [
    "## **3. Can you think of other factors, derived from the information in the sample, which could help explain the question at hand?**"
   ]
  },
  {
   "cell_type": "code",
   "execution_count": 21,
   "id": "09100a58",
   "metadata": {
    "ExecuteTime": {
     "end_time": "2024-06-02T11:01:29.653384Z",
     "start_time": "2024-06-02T11:01:29.648936Z"
    }
   },
   "outputs": [],
   "source": [
    "## 1. additiona feature: day lag from the last order to t0\n",
    "df['day_lag_from_last_order'] = (pd.to_datetime('2021-10-01') - df['LastOrder']  ).dt.days"
   ]
  },
  {
   "cell_type": "code",
   "execution_count": 22,
   "id": "6440adb5",
   "metadata": {
    "ExecuteTime": {
     "end_time": "2024-06-02T11:01:30.346817Z",
     "start_time": "2024-06-02T11:01:30.192039Z"
    },
    "scrolled": true
   },
   "outputs": [
    {
     "data": {
      "image/png": "[encoded data removed]",
      "text/plain": [
       "<Figure size 1000x600 with 1 Axes>"
      ]
     },
     "metadata": {},
     "output_type": "display_data"
    }
   ],
   "source": [
    "df['yyyy-mm'] = df['LastOrder'].dt.to_period('M')\n",
    "data = df.groupby(['yyyy-mm']).Activated.sum().reset_index()\n",
    "\n",
    "# plot the orders' sum for each month\n",
    "fontsize = 14\n",
    "plt.figure(figsize=(10, 6))\n",
    "sns.pointplot(data=data, x='yyyy-mm', y='Activated')\n",
    "plt.title('Number orders before t0')\n",
    "plt.xlabel('Year-Month', fontsize=fontsize)\n",
    "plt.ylabel('#orders', fontsize=fontsize)\n",
    "\n",
    "# Rotate x-axis labels\n",
    "plt.xticks(rotation=45)\n",
    "\n",
    "plt.show()"
   ]
  },
  {
   "cell_type": "markdown",
   "id": "31d339dc",
   "metadata": {},
   "source": [
    "On the grapoh the sum of orders are diplayed based on year-month. \n",
    "\n",
    "Based on what described above, we difined the following features whcih could be represent possible predictors of the customer activation:\n",
    "\n",
    "2. **orders after the June 2021**, since the number of orders increases really rapidly up to 3.5 times in 2021-09."
   ]
  },
  {
   "cell_type": "code",
   "execution_count": 23,
   "id": "3f0e2def",
   "metadata": {
    "ExecuteTime": {
     "end_time": "2024-06-02T11:01:49.546029Z",
     "start_time": "2024-06-02T11:01:49.542319Z"
    }
   },
   "outputs": [],
   "source": [
    "df['Order_after_June'] = np.where(df['LastOrder']> pd.to_datetime('2021-06-01'), 1, 0)"
   ]
  },
  {
   "cell_type": "code",
   "execution_count": 24,
   "id": "7959478a",
   "metadata": {
    "ExecuteTime": {
     "end_time": "2024-06-02T11:01:49.967087Z",
     "start_time": "2024-06-02T11:01:49.963355Z"
    }
   },
   "outputs": [],
   "source": [
    "additional_features = ['day_lag_from_last_order','Order_after_June'] \n",
    "#'LastOrder_month', 'LastOrder_year',\n",
    "\n",
    "# Compute the correlation matrix\n",
    "correlation_matrix = df[additional_features+['Activated']].corr()\n",
    "\n",
    "# Select the correlation values for column 'A'\n",
    "correlation_with_activated = correlation_matrix['Activated']\n",
    "\n",
    "# Sort the correlation values in ascending order\n",
    "correlation_with_activated = correlation_with_activated.sort_values(ascending=False)"
   ]
  },
  {
   "cell_type": "code",
   "execution_count": 25,
   "id": "a2769fe4",
   "metadata": {
    "ExecuteTime": {
     "end_time": "2024-06-02T11:01:51.330960Z",
     "start_time": "2024-06-02T11:01:51.327470Z"
    },
    "scrolled": true
   },
   "outputs": [
    {
     "data": {
      "text/plain": [
       "Activated                  1.000000\n",
       "Order_after_June           0.342480\n",
       "day_lag_from_last_order   -0.336295\n",
       "Name: Activated, dtype: float64"
      ]
     },
     "execution_count": 25,
     "metadata": {},
     "output_type": "execute_result"
    }
   ],
   "source": [
    "correlation_with_activated"
   ]
  },
  {
   "cell_type": "code",
   "execution_count": 378,
   "id": "d1c15e77",
   "metadata": {
    "ExecuteTime": {
     "end_time": "2024-06-01T20:41:33.475701Z",
     "start_time": "2024-06-01T20:41:33.336851Z"
    },
    "scrolled": false
   },
   "outputs": [
    {
     "data": {
      "image/png": "[encoded data removed]",
      "text/plain": [
       "<Figure size 700x500 with 2 Axes>"
      ]
     },
     "metadata": {},
     "output_type": "display_data"
    }
   ],
   "source": [
    "# Plot the heatmap\n",
    "plt.figure(figsize=(7, 5))\n",
    "sns.heatmap(correlation_matrix.drop('Activated'), annot=True, cmap='coolwarm', center=0)\n",
    "plt.title('Correlation Heatmap')\n",
    "plt.show()"
   ]
  },
  {
   "cell_type": "markdown",
   "id": "9dfedbb2",
   "metadata": {
    "ExecuteTime": {
     "end_time": "2024-06-01T20:31:15.387457Z",
     "start_time": "2024-06-01T20:31:15.383835Z"
    }
   },
   "source": [
    "Positive Correlation with Customer Activation:\n",
    "\n",
    "    1. orders made after June 2021 (p=0.34, moderate)\n",
    "    \n",
    "    \n",
    "Negative Correlation with Customer's Activation:\n",
    "\n",
    "    1. day lag from the last order to t0 (p=-0.34, low)"
   ]
  },
  {
   "cell_type": "markdown",
   "id": "a4aa5ccd",
   "metadata": {
    "ExecuteTime": {
     "end_time": "2024-06-01T20:35:20.107790Z",
     "start_time": "2024-06-01T20:35:20.104817Z"
    }
   },
   "source": [
    "Furtheremore the multicollinerity should be checked since it is evident that `Order_after_June` and \n",
    "`day_lag_from_last_order` are moderate negatively correlated.  "
   ]
  },
  {
   "cell_type": "code",
   "execution_count": 26,
   "id": "d2d0364f",
   "metadata": {
    "ExecuteTime": {
     "end_time": "2024-06-02T11:02:27.894563Z",
     "start_time": "2024-06-02T11:02:27.891929Z"
    }
   },
   "outputs": [],
   "source": [
    "# Data preprocessing for the logistic regression\n",
    "df['day_lag_from_last_order'].fillna(0, inplace=True)"
   ]
  },
  {
   "cell_type": "code",
   "execution_count": 27,
   "id": "daf0e4b3",
   "metadata": {
    "ExecuteTime": {
     "end_time": "2024-06-02T11:02:28.626167Z",
     "start_time": "2024-06-02T11:02:28.623472Z"
    }
   },
   "outputs": [],
   "source": [
    "# Selecting features and target\n",
    "X = df[features+additional_features]\n",
    "y = df['Activated']"
   ]
  },
  {
   "cell_type": "code",
   "execution_count": 28,
   "id": "da397757",
   "metadata": {
    "ExecuteTime": {
     "end_time": "2024-06-02T11:02:30.026519Z",
     "start_time": "2024-06-02T11:02:29.997613Z"
    },
    "scrolled": true
   },
   "outputs": [
    {
     "name": "stdout",
     "output_type": "stream",
     "text": [
      "                  Variable       VIF\n",
      "0                 Cust_Age  5.889440\n",
      "1                  Cust_NL  1.245990\n",
      "2                   Orders  3.892106\n",
      "3           Orders_Voucher  1.751446\n",
      "4                is_female  2.948696\n",
      "5  day_lag_from_last_order  2.742968\n",
      "6         Order_after_June  3.579037\n"
     ]
    }
   ],
   "source": [
    "# Calculate VIF for each predictor variable\n",
    "vif = pd.DataFrame()\n",
    "vif[\"Variable\"] = X.columns\n",
    "vif[\"VIF\"] = [variance_inflation_factor(X.values, i) for i in range(X.shape[1])]\n",
    "print(vif)"
   ]
  },
  {
   "cell_type": "markdown",
   "id": "ff52998e",
   "metadata": {},
   "source": [
    "Based on its VIF higher than 5 and given the fact that its contribution to the Customer's Activation has been seen to be the lowest across the other predictors, `Cust_Age` is exclude from the logistic regression. "
   ]
  },
  {
   "cell_type": "markdown",
   "id": "4b6ad191",
   "metadata": {},
   "source": [
    "### Logistic Regression to identify the predictors of the customer's activation"
   ]
  },
  {
   "cell_type": "code",
   "execution_count": 29,
   "id": "b9678360",
   "metadata": {
    "ExecuteTime": {
     "end_time": "2024-06-02T11:02:44.146410Z",
     "start_time": "2024-06-02T11:02:44.143242Z"
    }
   },
   "outputs": [],
   "source": [
    "X = X.drop(columns='Cust_Age')"
   ]
  },
  {
   "cell_type": "code",
   "execution_count": 30,
   "id": "9715d53b",
   "metadata": {
    "ExecuteTime": {
     "end_time": "2024-06-02T11:02:44.690627Z",
     "start_time": "2024-06-02T11:02:44.654228Z"
    },
    "scrolled": false
   },
   "outputs": [
    {
     "name": "stdout",
     "output_type": "stream",
     "text": [
      "Optimization terminated successfully.\n",
      "         Current function value: 0.569839\n",
      "         Iterations 6\n",
      "                           Logit Regression Results                           \n",
      "==============================================================================\n",
      "Dep. Variable:              Activated   No. Observations:                10000\n",
      "Model:                          Logit   Df Residuals:                     9993\n",
      "Method:                           MLE   Df Model:                            6\n",
      "Date:                Sun, 02 Jun 2024   Pseudo R-squ.:                  0.1677\n",
      "Time:                        13:02:44   Log-Likelihood:                -5698.4\n",
      "converged:                       True   LL-Null:                       -6846.5\n",
      "Covariance Type:            nonrobust   LLR p-value:                     0.000\n",
      "===========================================================================================\n",
      "                              coef    std err          z      P>|z|      [0.025      0.975]\n",
      "-------------------------------------------------------------------------------------------\n",
      "const                      -1.6386      0.079    -20.863      0.000      -1.793      -1.485\n",
      "Cust_NL                     0.0773      0.061      1.273      0.203      -0.042       0.196\n",
      "Orders                      0.3299      0.014     24.323      0.000       0.303       0.356\n",
      "Orders_Voucher              0.1182      0.024      4.963      0.000       0.072       0.165\n",
      "is_female                   0.0698      0.051      1.378      0.168      -0.029       0.169\n",
      "day_lag_from_last_order    -0.0006      0.000     -1.689      0.091      -0.001    8.92e-05\n",
      "Order_after_June            0.4944      0.065      7.642      0.000       0.368       0.621\n",
      "===========================================================================================\n"
     ]
    }
   ],
   "source": [
    "# Adding constant for the intercept\n",
    "X = sm.add_constant(X)\n",
    "\n",
    "# Logistic regression model\n",
    "logit_model = sm.Logit(y, X)\n",
    "result = logit_model.fit()\n",
    "\n",
    "# Summary of the model\n",
    "print(result.summary())"
   ]
  },
  {
   "cell_type": "code",
   "execution_count": 32,
   "id": "9f7ddba6",
   "metadata": {
    "ExecuteTime": {
     "end_time": "2024-06-02T11:08:35.622221Z",
     "start_time": "2024-06-02T11:08:35.618867Z"
    },
    "scrolled": true
   },
   "outputs": [
    {
     "name": "stdout",
     "output_type": "stream",
     "text": [
      "const                      0.194255\n",
      "Cust_NL                    1.080378\n",
      "Orders                     1.390813\n",
      "Orders_Voucher             1.125482\n",
      "is_female                  1.072326\n",
      "day_lag_from_last_order    0.999444\n",
      "Order_after_June           1.639575\n",
      "dtype: float64\n"
     ]
    }
   ],
   "source": [
    "#coefficients odds ratios\n",
    "coefficients = result.params\n",
    "odds_ratios = np.exp(coefficients)\n",
    "print(odds_ratios)"
   ]
  },
  {
   "cell_type": "markdown",
   "id": "1a3eb33b",
   "metadata": {},
   "source": [
    "### Decision Trees/Random Forests: Can handle non-linear relationships and interactions between variables."
   ]
  },
  {
   "cell_type": "code",
   "execution_count": 37,
   "id": "d0fbf9b5",
   "metadata": {
    "ExecuteTime": {
     "end_time": "2024-06-02T12:53:59.340928Z",
     "start_time": "2024-06-02T12:53:59.337793Z"
    }
   },
   "outputs": [],
   "source": [
    "# Selecting features and target\n",
    "X = df[features+additional_features]\n",
    "y = df['Activated']"
   ]
  },
  {
   "cell_type": "code",
   "execution_count": 38,
   "id": "f2b911aa",
   "metadata": {
    "ExecuteTime": {
     "end_time": "2024-06-02T12:54:00.339339Z",
     "start_time": "2024-06-02T12:53:59.636562Z"
    }
   },
   "outputs": [
    {
     "data": {
      "text/html": [
       "<style>#sk-container-id-1 {\n",
       "  /* Definition of color scheme common for light and dark mode */\n",
       "  --sklearn-color-text: black;\n",
       "  --sklearn-color-line: gray;\n",
       "  /* Definition of color scheme for unfitted estimators */\n",
       "  --sklearn-color-unfitted-level-0: #fff5e6;\n",
       "  --sklearn-color-unfitted-level-1: #f6e4d2;\n",
       "  --sklearn-color-unfitted-level-2: #ffe0b3;\n",
       "  --sklearn-color-unfitted-level-3: chocolate;\n",
       "  /* Definition of color scheme for fitted estimators */\n",
       "  --sklearn-color-fitted-level-0: #f0f8ff;\n",
       "  --sklearn-color-fitted-level-1: #d4ebff;\n",
       "  --sklearn-color-fitted-level-2: #b3dbfd;\n",
       "  --sklearn-color-fitted-level-3: cornflowerblue;\n",
       "\n",
       "  /* Specific color for light theme */\n",
       "  --sklearn-color-text-on-default-background: var(--sg-text-color, var(--theme-code-foreground, var(--jp-content-font-color1, black)));\n",
       "  --sklearn-color-background: var(--sg-background-color, var(--theme-background, var(--jp-layout-color0, white)));\n",
       "  --sklearn-color-border-box: var(--sg-text-color, var(--theme-code-foreground, var(--jp-content-font-color1, black)));\n",
       "  --sklearn-color-icon: #696969;\n",
       "\n",
       "  @media (prefers-color-scheme: dark) {\n",
       "    /* Redefinition of color scheme for dark theme */\n",
       "    --sklearn-color-text-on-default-background: var(--sg-text-color, var(--theme-code-foreground, var(--jp-content-font-color1, white)));\n",
       "    --sklearn-color-background: var(--sg-background-color, var(--theme-background, var(--jp-layout-color0, #111)));\n",
       "    --sklearn-color-border-box: var(--sg-text-color, var(--theme-code-foreground, var(--jp-content-font-color1, white)));\n",
       "    --sklearn-color-icon: #878787;\n",
       "  }\n",
       "}\n",
       "\n",
       "#sk-container-id-1 {\n",
       "  color: var(--sklearn-color-text);\n",
       "}\n",
       "\n",
       "#sk-container-id-1 pre {\n",
       "  padding: 0;\n",
       "}\n",
       "\n",
       "#sk-container-id-1 input.sk-hidden--visually {\n",
       "  border: 0;\n",
       "  clip: rect(1px 1px 1px 1px);\n",
       "  clip: rect(1px, 1px, 1px, 1px);\n",
       "  height: 1px;\n",
       "  margin: -1px;\n",
       "  overflow: hidden;\n",
       "  padding: 0;\n",
       "  position: absolute;\n",
       "  width: 1px;\n",
       "}\n",
       "\n",
       "#sk-container-id-1 div.sk-dashed-wrapped {\n",
       "  border: 1px dashed var(--sklearn-color-line);\n",
       "  margin: 0 0.4em 0.5em 0.4em;\n",
       "  box-sizing: border-box;\n",
       "  padding-bottom: 0.4em;\n",
       "  background-color: var(--sklearn-color-background);\n",
       "}\n",
       "\n",
       "#sk-container-id-1 div.sk-container {\n",
       "  /* jupyter's `normalize.less` sets `[hidden] { display: none; }`\n",
       "     but bootstrap.min.css set `[hidden] { display: none !important; }`\n",
       "     so we also need the `!important` here to be able to override the\n",
       "     default hidden behavior on the sphinx rendered scikit-learn.org.\n",
       "     See: https://github.com/scikit-learn/scikit-learn/issues/21755 */\n",
       "  display: inline-block !important;\n",
       "  position: relative;\n",
       "}\n",
       "\n",
       "#sk-container-id-1 div.sk-text-repr-fallback {\n",
       "  display: none;\n",
       "}\n",
       "\n",
       "div.sk-parallel-item,\n",
       "div.sk-serial,\n",
       "div.sk-item {\n",
       "  /* draw centered vertical line to link estimators */\n",
       "  background-image: linear-gradient(var(--sklearn-color-text-on-default-background), var(--sklearn-color-text-on-default-background));\n",
       "  background-size: 2px 100%;\n",
       "  background-repeat: no-repeat;\n",
       "  background-position: center center;\n",
       "}\n",
       "\n",
       "/* Parallel-specific style estimator block */\n",
       "\n",
       "#sk-container-id-1 div.sk-parallel-item::after {\n",
       "  content: \"\";\n",
       "  width: 100%;\n",
       "  border-bottom: 2px solid var(--sklearn-color-text-on-default-background);\n",
       "  flex-grow: 1;\n",
       "}\n",
       "\n",
       "#sk-container-id-1 div.sk-parallel {\n",
       "  display: flex;\n",
       "  align-items: stretch;\n",
       "  justify-content: center;\n",
       "  background-color: var(--sklearn-color-background);\n",
       "  position: relative;\n",
       "}\n",
       "\n",
       "#sk-container-id-1 div.sk-parallel-item {\n",
       "  display: flex;\n",
       "  flex-direction: column;\n",
       "}\n",
       "\n",
       "#sk-container-id-1 div.sk-parallel-item:first-child::after {\n",
       "  align-self: flex-end;\n",
       "  width: 50%;\n",
       "}\n",
       "\n",
       "#sk-container-id-1 div.sk-parallel-item:last-child::after {\n",
       "  align-self: flex-start;\n",
       "  width: 50%;\n",
       "}\n",
       "\n",
       "#sk-container-id-1 div.sk-parallel-item:only-child::after {\n",
       "  width: 0;\n",
       "}\n",
       "\n",
       "/* Serial-specific style estimator block */\n",
       "\n",
       "#sk-container-id-1 div.sk-serial {\n",
       "  display: flex;\n",
       "  flex-direction: column;\n",
       "  align-items: center;\n",
       "  background-color: var(--sklearn-color-background);\n",
       "  padding-right: 1em;\n",
       "  padding-left: 1em;\n",
       "}\n",
       "\n",
       "\n",
       "/* Toggleable style: style used for estimator/Pipeline/ColumnTransformer box that is\n",
       "clickable and can be expanded/collapsed.\n",
       "- Pipeline and ColumnTransformer use this feature and define the default style\n",
       "- Estimators will overwrite some part of the style using the `sk-estimator` class\n",
       "*/\n",
       "\n",
       "/* Pipeline and ColumnTransformer style (default) */\n",
       "\n",
       "#sk-container-id-1 div.sk-toggleable {\n",
       "  /* Default theme specific background. It is overwritten whether we have a\n",
       "  specific estimator or a Pipeline/ColumnTransformer */\n",
       "  background-color: var(--sklearn-color-background);\n",
       "}\n",
       "\n",
       "/* Toggleable label */\n",
       "#sk-container-id-1 label.sk-toggleable__label {\n",
       "  cursor: pointer;\n",
       "  display: block;\n",
       "  width: 100%;\n",
       "  margin-bottom: 0;\n",
       "  padding: 0.5em;\n",
       "  box-sizing: border-box;\n",
       "  text-align: center;\n",
       "}\n",
       "\n",
       "#sk-container-id-1 label.sk-toggleable__label-arrow:before {\n",
       "  /* Arrow on the left of the label */\n",
       "  content: \"▸\";\n",
       "  float: left;\n",
       "  margin-right: 0.25em;\n",
       "  color: var(--sklearn-color-icon);\n",
       "}\n",
       "\n",
       "#sk-container-id-1 label.sk-toggleable__label-arrow:hover:before {\n",
       "  color: var(--sklearn-color-text);\n",
       "}\n",
       "\n",
       "/* Toggleable content - dropdown */\n",
       "\n",
       "#sk-container-id-1 div.sk-toggleable__content {\n",
       "  max-height: 0;\n",
       "  max-width: 0;\n",
       "  overflow: hidden;\n",
       "  text-align: left;\n",
       "  /* unfitted */\n",
       "  background-color: var(--sklearn-color-unfitted-level-0);\n",
       "}\n",
       "\n",
       "#sk-container-id-1 div.sk-toggleable__content.fitted {\n",
       "  /* fitted */\n",
       "  background-color: var(--sklearn-color-fitted-level-0);\n",
       "}\n",
       "\n",
       "#sk-container-id-1 div.sk-toggleable__content pre {\n",
       "  margin: 0.2em;\n",
       "  border-radius: 0.25em;\n",
       "  color: var(--sklearn-color-text);\n",
       "  /* unfitted */\n",
       "  background-color: var(--sklearn-color-unfitted-level-0);\n",
       "}\n",
       "\n",
       "#sk-container-id-1 div.sk-toggleable__content.fitted pre {\n",
       "  /* unfitted */\n",
       "  background-color: var(--sklearn-color-fitted-level-0);\n",
       "}\n",
       "\n",
       "#sk-container-id-1 input.sk-toggleable__control:checked~div.sk-toggleable__content {\n",
       "  /* Expand drop-down */\n",
       "  max-height: 200px;\n",
       "  max-width: 100%;\n",
       "  overflow: auto;\n",
       "}\n",
       "\n",
       "#sk-container-id-1 input.sk-toggleable__control:checked~label.sk-toggleable__label-arrow:before {\n",
       "  content: \"▾\";\n",
       "}\n",
       "\n",
       "/* Pipeline/ColumnTransformer-specific style */\n",
       "\n",
       "#sk-container-id-1 div.sk-label input.sk-toggleable__control:checked~label.sk-toggleable__label {\n",
       "  color: var(--sklearn-color-text);\n",
       "  background-color: var(--sklearn-color-unfitted-level-2);\n",
       "}\n",
       "\n",
       "#sk-container-id-1 div.sk-label.fitted input.sk-toggleable__control:checked~label.sk-toggleable__label {\n",
       "  background-color: var(--sklearn-color-fitted-level-2);\n",
       "}\n",
       "\n",
       "/* Estimator-specific style */\n",
       "\n",
       "/* Colorize estimator box */\n",
       "#sk-container-id-1 div.sk-estimator input.sk-toggleable__control:checked~label.sk-toggleable__label {\n",
       "  /* unfitted */\n",
       "  background-color: var(--sklearn-color-unfitted-level-2);\n",
       "}\n",
       "\n",
       "#sk-container-id-1 div.sk-estimator.fitted input.sk-toggleable__control:checked~label.sk-toggleable__label {\n",
       "  /* fitted */\n",
       "  background-color: var(--sklearn-color-fitted-level-2);\n",
       "}\n",
       "\n",
       "#sk-container-id-1 div.sk-label label.sk-toggleable__label,\n",
       "#sk-container-id-1 div.sk-label label {\n",
       "  /* The background is the default theme color */\n",
       "  color: var(--sklearn-color-text-on-default-background);\n",
       "}\n",
       "\n",
       "/* On hover, darken the color of the background */\n",
       "#sk-container-id-1 div.sk-label:hover label.sk-toggleable__label {\n",
       "  color: var(--sklearn-color-text);\n",
       "  background-color: var(--sklearn-color-unfitted-level-2);\n",
       "}\n",
       "\n",
       "/* Label box, darken color on hover, fitted */\n",
       "#sk-container-id-1 div.sk-label.fitted:hover label.sk-toggleable__label.fitted {\n",
       "  color: var(--sklearn-color-text);\n",
       "  background-color: var(--sklearn-color-fitted-level-2);\n",
       "}\n",
       "\n",
       "/* Estimator label */\n",
       "\n",
       "#sk-container-id-1 div.sk-label label {\n",
       "  font-family: monospace;\n",
       "  font-weight: bold;\n",
       "  display: inline-block;\n",
       "  line-height: 1.2em;\n",
       "}\n",
       "\n",
       "#sk-container-id-1 div.sk-label-container {\n",
       "  text-align: center;\n",
       "}\n",
       "\n",
       "/* Estimator-specific */\n",
       "#sk-container-id-1 div.sk-estimator {\n",
       "  font-family: monospace;\n",
       "  border: 1px dotted var(--sklearn-color-border-box);\n",
       "  border-radius: 0.25em;\n",
       "  box-sizing: border-box;\n",
       "  margin-bottom: 0.5em;\n",
       "  /* unfitted */\n",
       "  background-color: var(--sklearn-color-unfitted-level-0);\n",
       "}\n",
       "\n",
       "#sk-container-id-1 div.sk-estimator.fitted {\n",
       "  /* fitted */\n",
       "  background-color: var(--sklearn-color-fitted-level-0);\n",
       "}\n",
       "\n",
       "/* on hover */\n",
       "#sk-container-id-1 div.sk-estimator:hover {\n",
       "  /* unfitted */\n",
       "  background-color: var(--sklearn-color-unfitted-level-2);\n",
       "}\n",
       "\n",
       "#sk-container-id-1 div.sk-estimator.fitted:hover {\n",
       "  /* fitted */\n",
       "  background-color: var(--sklearn-color-fitted-level-2);\n",
       "}\n",
       "\n",
       "/* Specification for estimator info (e.g. \"i\" and \"?\") */\n",
       "\n",
       "/* Common style for \"i\" and \"?\" */\n",
       "\n",
       ".sk-estimator-doc-link,\n",
       "a:link.sk-estimator-doc-link,\n",
       "a:visited.sk-estimator-doc-link {\n",
       "  float: right;\n",
       "  font-size: smaller;\n",
       "  line-height: 1em;\n",
       "  font-family: monospace;\n",
       "  background-color: var(--sklearn-color-background);\n",
       "  border-radius: 1em;\n",
       "  height: 1em;\n",
       "  width: 1em;\n",
       "  text-decoration: none !important;\n",
       "  margin-left: 1ex;\n",
       "  /* unfitted */\n",
       "  border: var(--sklearn-color-unfitted-level-1) 1pt solid;\n",
       "  color: var(--sklearn-color-unfitted-level-1);\n",
       "}\n",
       "\n",
       ".sk-estimator-doc-link.fitted,\n",
       "a:link.sk-estimator-doc-link.fitted,\n",
       "a:visited.sk-estimator-doc-link.fitted {\n",
       "  /* fitted */\n",
       "  border: var(--sklearn-color-fitted-level-1) 1pt solid;\n",
       "  color: var(--sklearn-color-fitted-level-1);\n",
       "}\n",
       "\n",
       "/* On hover */\n",
       "div.sk-estimator:hover .sk-estimator-doc-link:hover,\n",
       ".sk-estimator-doc-link:hover,\n",
       "div.sk-label-container:hover .sk-estimator-doc-link:hover,\n",
       ".sk-estimator-doc-link:hover {\n",
       "  /* unfitted */\n",
       "  background-color: var(--sklearn-color-unfitted-level-3);\n",
       "  color: var(--sklearn-color-background);\n",
       "  text-decoration: none;\n",
       "}\n",
       "\n",
       "div.sk-estimator.fitted:hover .sk-estimator-doc-link.fitted:hover,\n",
       ".sk-estimator-doc-link.fitted:hover,\n",
       "div.sk-label-container:hover .sk-estimator-doc-link.fitted:hover,\n",
       ".sk-estimator-doc-link.fitted:hover {\n",
       "  /* fitted */\n",
       "  background-color: var(--sklearn-color-fitted-level-3);\n",
       "  color: var(--sklearn-color-background);\n",
       "  text-decoration: none;\n",
       "}\n",
       "\n",
       "/* Span, style for the box shown on hovering the info icon */\n",
       ".sk-estimator-doc-link span {\n",
       "  display: none;\n",
       "  z-index: 9999;\n",
       "  position: relative;\n",
       "  font-weight: normal;\n",
       "  right: .2ex;\n",
       "  padding: .5ex;\n",
       "  margin: .5ex;\n",
       "  width: min-content;\n",
       "  min-width: 20ex;\n",
       "  max-width: 50ex;\n",
       "  color: var(--sklearn-color-text);\n",
       "  box-shadow: 2pt 2pt 4pt #999;\n",
       "  /* unfitted */\n",
       "  background: var(--sklearn-color-unfitted-level-0);\n",
       "  border: .5pt solid var(--sklearn-color-unfitted-level-3);\n",
       "}\n",
       "\n",
       ".sk-estimator-doc-link.fitted span {\n",
       "  /* fitted */\n",
       "  background: var(--sklearn-color-fitted-level-0);\n",
       "  border: var(--sklearn-color-fitted-level-3);\n",
       "}\n",
       "\n",
       ".sk-estimator-doc-link:hover span {\n",
       "  display: block;\n",
       "}\n",
       "\n",
       "/* \"?\"-specific style due to the `<a>` HTML tag */\n",
       "\n",
       "#sk-container-id-1 a.estimator_doc_link {\n",
       "  float: right;\n",
       "  font-size: 1rem;\n",
       "  line-height: 1em;\n",
       "  font-family: monospace;\n",
       "  background-color: var(--sklearn-color-background);\n",
       "  border-radius: 1rem;\n",
       "  height: 1rem;\n",
       "  width: 1rem;\n",
       "  text-decoration: none;\n",
       "  /* unfitted */\n",
       "  color: var(--sklearn-color-unfitted-level-1);\n",
       "  border: var(--sklearn-color-unfitted-level-1) 1pt solid;\n",
       "}\n",
       "\n",
       "#sk-container-id-1 a.estimator_doc_link.fitted {\n",
       "  /* fitted */\n",
       "  border: var(--sklearn-color-fitted-level-1) 1pt solid;\n",
       "  color: var(--sklearn-color-fitted-level-1);\n",
       "}\n",
       "\n",
       "/* On hover */\n",
       "#sk-container-id-1 a.estimator_doc_link:hover {\n",
       "  /* unfitted */\n",
       "  background-color: var(--sklearn-color-unfitted-level-3);\n",
       "  color: var(--sklearn-color-background);\n",
       "  text-decoration: none;\n",
       "}\n",
       "\n",
       "#sk-container-id-1 a.estimator_doc_link.fitted:hover {\n",
       "  /* fitted */\n",
       "  background-color: var(--sklearn-color-fitted-level-3);\n",
       "}\n",
       "</style><div id=\"sk-container-id-1\" class=\"sk-top-container\"><div class=\"sk-text-repr-fallback\"><pre>RandomForestClassifier(random_state=42)</pre><b>In a Jupyter environment, please rerun this cell to show the HTML representation or trust the notebook. <br />On GitHub, the HTML representation is unable to render, please try loading this page with nbviewer.org.</b></div><div class=\"sk-container\" hidden><div class=\"sk-item\"><div class=\"sk-estimator fitted sk-toggleable\"><input class=\"sk-toggleable__control sk-hidden--visually\" id=\"sk-estimator-id-1\" type=\"checkbox\" checked><label for=\"sk-estimator-id-1\" class=\"sk-toggleable__label fitted sk-toggleable__label-arrow fitted\">&nbsp;&nbsp;RandomForestClassifier<a class=\"sk-estimator-doc-link fitted\" rel=\"noreferrer\" target=\"_blank\" href=\"https://scikit-learn.org/1.4/modules/generated/sklearn.ensemble.RandomForestClassifier.html\">?<span>Documentation for RandomForestClassifier</span></a><span class=\"sk-estimator-doc-link fitted\">i<span>Fitted</span></span></label><div class=\"sk-toggleable__content fitted\"><pre>RandomForestClassifier(random_state=42)</pre></div> </div></div></div></div>"
      ],
      "text/plain": [
       "RandomForestClassifier(random_state=42)"
      ]
     },
     "execution_count": 38,
     "metadata": {},
     "output_type": "execute_result"
    }
   ],
   "source": [
    "model2 = RandomForestClassifier(random_state=42)\n",
    "model2.fit(X, y)\n"
   ]
  },
  {
   "cell_type": "code",
   "execution_count": 40,
   "id": "19674fb5",
   "metadata": {
    "ExecuteTime": {
     "end_time": "2024-06-02T13:09:48.497752Z",
     "start_time": "2024-06-02T13:09:48.374064Z"
    },
    "scrolled": true
   },
   "outputs": [
    {
     "data": {
      "image/png": "[encoded data removed]",
      "text/plain": [
       "<Figure size 640x480 with 1 Axes>"
      ]
     },
     "metadata": {},
     "output_type": "display_data"
    }
   ],
   "source": [
    "importances = model2.feature_importances_\n",
    "indices = np.argsort(importances)[::-1]\n",
    "plt.figure()\n",
    "plt.title(\"Feature Importances\")\n",
    "plt.bar(range(X.shape[1]), importances[indices], color=\"blue\", align=\"center\")\n",
    "plt.xticks(range(X.shape[1]), X.columns[indices], rotation=45)\n",
    "plt.xlim([-1, X.shape[1]])\n",
    "plt.show()"
   ]
  }
 ],
 "metadata": {
  "hide_input": false,
  "kernelspec": {
   "display_name": "Python 3 (ipykernel)",
   "language": "python",
   "name": "python3"
  },
  "language_info": {
   "codemirror_mode": {
    "name": "ipython",
    "version": 3
   },
   "file_extension": ".py",
   "mimetype": "text/x-python",
   "name": "python",
   "nbconvert_exporter": "python",
   "pygments_lexer": "ipython3",
   "version": "3.9.17"
  }
 },
 "nbformat": 4,
 "nbformat_minor": 5
}
